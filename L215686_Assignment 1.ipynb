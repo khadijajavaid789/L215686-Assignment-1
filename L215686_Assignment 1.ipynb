{
  "nbformat": 4,
  "nbformat_minor": 0,
  "metadata": {
    "colab": {
      "provenance": [],
      "collapsed_sections": []
    },
    "kernelspec": {
      "name": "python3",
      "display_name": "Python 3"
    },
    "language_info": {
      "name": "python"
    }
  },
  "cells": [
    {
      "cell_type": "markdown",
      "source": [
        "# Introduction To Data Science – Assignment 1\n",
        "\n",
        "---\n",
        "\n",
        "### Sections A – B – C – D\n",
        "\n",
        "---\n",
        "\n",
        "***Instructions***\n",
        "\n",
        "Due Date: Sunday 18th September 2022 – 11:59PM\n",
        "\n",
        "Name the file in the format Lyyxxxx and save it as .ipynb (e.g. L201234.ipynb)\n",
        "\n",
        "Submission will be taken on **GitHub and Google Classroom (submit the .ipynb file)** - Instructions to upload onto GitHub are provided in the link https://docs.google.com/document/d/1BR1ULOGeGWJVU6Rr6Qty1FR-quVRZyRvQGII6nEs-wo/edit?usp=sharing\n",
        "\n",
        "After uploading and submitting the .ipynb file onto Google Classroom, also private comment the link to the GitHub repository.\n",
        "\n",
        "All source files needed to complete this assignment can be found on the following Google Drive link https://drive.google.com/drive/folders/1VrkaVcExGWqilSeh50WZe4gUBjmUiJ9b?usp=sharing\n",
        "\n",
        "TA Emails\n",
        "\n",
        "Section A, C - Muhammad Maarij l192347@lhr.nu.edu.pk\n",
        "\n",
        "Section B, D - Hira Ijaz l192377@lhr.nu.edu.pk\n",
        "\n",
        "Happy Coding 😊\n",
        "\n",
        "---"
      ],
      "metadata": {
        "id": "TWWLTwYZorzC"
      }
    },
    {
      "cell_type": "markdown",
      "source": [
        "---\n",
        "## Question 1\n",
        "---"
      ],
      "metadata": {
        "id": "arB_0r9H0jjC"
      }
    },
    {
      "cell_type": "markdown",
      "source": [
        "Define a procedure called \"check_input\" that takes an input as a square list of lists (2D Matrix of N x N) and returns a boolen \"true\" if the input is valid or \"false\" otherwise, according to the following criteria.\n",
        "\n",
        "1. Each coloumn must contain numbers from between 1 and N, with no duplicates.\n",
        "2. Each row must contain numbers from between 1 and N, with no duplicates."
      ],
      "metadata": {
        "id": "qHPTNDy30n99"
      }
    },
    {
      "cell_type": "code",
      "source": [
        "# define procedure here\n",
        "def check_input(test):\n",
        "    n = len(test)\n",
        "    for i in range(0, n):\n",
        "      for j in range(0, n):\n",
        "        row = test[i]\n",
        "        col = [x[j] for x in test]\n",
        "        if((test[i][j] not in col[i+1:]) and (test[i][j] not in col[:i])and (test[i][j] not in row[j+1:]) and (test[i][j] not in row[:j]) and (test[i][j] in range(1, n+1))):\n",
        "            continue\n",
        "        else:\n",
        "            return False\n",
        "    return True"
      ],
      "metadata": {
        "id": "S2_Zic322Lt7"
      },
      "execution_count": null,
      "outputs": []
    },
    {
      "cell_type": "code",
      "source": [
        "# run this block to test code after defining the procedure\n",
        "\n",
        "test1 = [[1, 2, 3],\n",
        "        [2, 3, 1],\n",
        "        [3, 1, 2]]\n",
        "\n",
        "test2 = [[1, 2, 3, 4],\n",
        "        [2, 3, 1, 3],\n",
        "        [3, 1, 2, 3],\n",
        "        [4, 4, 4, 4]]\n",
        "\n",
        "test3 = [['a', 'b', 'c'],\n",
        "        ['b', 'c', 'a'],\n",
        "        ['c', 'a', 'b']]\n",
        "\n",
        "print(check_input(test1)) # must return true\n",
        "print(check_input(test2)) # must return false\n",
        "print(check_input(test3)) # must return false"
      ],
      "metadata": {
        "id": "wdL9MWgq2ZbP",
        "colab": {
          "base_uri": "https://localhost:8080/"
        },
        "outputId": "c0ddec1f-d853-472f-b55d-662833c63ded"
      },
      "execution_count": null,
      "outputs": [
        {
          "output_type": "stream",
          "name": "stdout",
          "text": [
            "True\n",
            "False\n",
            "False\n"
          ]
        }
      ]
    },
    {
      "cell_type": "markdown",
      "source": [
        "---\n",
        "## Question 2\n",
        "---"
      ],
      "metadata": {
        "id": "4RVTlnhWqOUC"
      }
    },
    {
      "cell_type": "markdown",
      "source": [
        "**Part A** - Import the file \"StudentMarkSheet.csv\" as a Pandas DataFrame and print the information for the dataframe"
      ],
      "metadata": {
        "id": "Uyc7JPtNt0pR"
      }
    },
    {
      "cell_type": "code",
      "execution_count": null,
      "metadata": {
        "id": "wYrt7e6Xop2P",
        "colab": {
          "base_uri": "https://localhost:8080/"
        },
        "outputId": "f2df2303-9f6d-430d-a27b-d6e03e7bd846"
      },
      "outputs": [
        {
          "output_type": "stream",
          "name": "stdout",
          "text": [
            "<class 'pandas.core.frame.DataFrame'>\n",
            "RangeIndex: 200 entries, 0 to 199\n",
            "Data columns (total 4 columns):\n",
            " #   Column        Non-Null Count  Dtype  \n",
            "---  ------        --------------  -----  \n",
            " 0   Student name  200 non-null    object \n",
            " 1   Exam name     199 non-null    object \n",
            " 2   Exam date     200 non-null    object \n",
            " 3   Marks         197 non-null    float64\n",
            "dtypes: float64(1), object(3)\n",
            "memory usage: 6.4+ KB\n"
          ]
        }
      ],
      "source": [
        "!pip install -U -q PyDrive\n",
        "from pydrive.auth import GoogleAuth\n",
        "from pydrive.drive import GoogleDrive\n",
        "from google.colab import auth\n",
        "from oauth2client.client import GoogleCredentials\n",
        "auth.authenticate_user()\n",
        "gauth = GoogleAuth()\n",
        "gauth.credentials = GoogleCredentials.get_application_default()\n",
        "drive = GoogleDrive(gauth)\n",
        "downloaded = drive.CreateFile({'id':'15Mi7J35JQ3kqZTSb5EVKbK4-6G5wEpwJ'})\n",
        "downloaded.GetContentFile('StudentMarkSheet.csv')\n",
        "import pandas as pd\n",
        "data = pd.read_csv(\"StudentMarkSheet.csv\")\n",
        "df = pd.DataFrame(data)\n",
        "df.info()"
      ]
    },
    {
      "cell_type": "markdown",
      "source": [
        "**Part B** - Remove any rows that do not contain all the data. Also print the following information.\n",
        "\n",
        "1. Number of rows before\n",
        "2. Number of rows containing null data\n",
        "3. Number of rows after"
      ],
      "metadata": {
        "id": "jIaMvgcft_i0"
      }
    },
    {
      "cell_type": "code",
      "source": [
        "length_df = len(df)\n",
        "print(\"Number of rows \",length_df)\n",
        "na = df.isna().sum()\n",
        "print(\"Number of rows containing null data \", na)\n",
        "df = df.dropna()\n",
        "currlength_df = len(df)\n",
        "print(\"Current number of rows \",currlength_df)"
      ],
      "metadata": {
        "id": "_ov_SWdxuZUm",
        "colab": {
          "base_uri": "https://localhost:8080/"
        },
        "outputId": "1b74a103-4950-4712-d997-23e62dedf4d5"
      },
      "execution_count": null,
      "outputs": [
        {
          "output_type": "stream",
          "name": "stdout",
          "text": [
            "Number of rows  200\n",
            "Number of rows containing null data  Student name    0\n",
            "Exam name       1\n",
            "Exam date       0\n",
            "Marks           3\n",
            "dtype: int64\n",
            "Current number of rows  196\n"
          ]
        }
      ]
    },
    {
      "cell_type": "markdown",
      "source": [
        "**Part C** - Print all the marks along with the subject for the student named \"James Walker\""
      ],
      "metadata": {
        "id": "2kd9zAX6wkXM"
      }
    },
    {
      "cell_type": "code",
      "source": [
        "df1 = df.loc[df[\"Student name\"] == \"James Walker\"]\n",
        "print(df1[[\"Exam name\", \"Marks\"]])"
      ],
      "metadata": {
        "id": "N0HWJN-PwuSo",
        "colab": {
          "base_uri": "https://localhost:8080/"
        },
        "outputId": "7d89ae7e-c273-44c1-d1a6-3829eb7a9014"
      },
      "execution_count": null,
      "outputs": [
        {
          "output_type": "stream",
          "name": "stdout",
          "text": [
            "       Exam name  Marks\n",
            "0        Biology   31.0\n",
            "42     Chemistry   61.0\n",
            "71   Mathematics   23.0\n",
            "150      Physics  100.0\n",
            "180    Sociology   73.0\n"
          ]
        }
      ]
    },
    {
      "cell_type": "markdown",
      "source": [
        "---\n",
        "## Question 3\n",
        "---"
      ],
      "metadata": {
        "id": "ts8Y1EXmwzhf"
      }
    },
    {
      "cell_type": "markdown",
      "source": [
        "**Part A** - From the DataFrame created in Question 2, calculate the average marks for each subject"
      ],
      "metadata": {
        "id": "PJENm_hpw3GQ"
      }
    },
    {
      "cell_type": "code",
      "source": [
        "df2 = df[\"Exam name\"]\n",
        "df2.value_counts()\n",
        "bio = df.loc[df[\"Exam name\"] == \"Biology\"]\n",
        "bio_mean = bio[\"Marks\"].mean()\n",
        "print(\"Average marks for Biology: \",bio_mean)\n",
        "socio = df.loc[df[\"Exam name\"] == \"Sociology\"]\n",
        "socio_mean = socio[\"Marks\"].mean()\n",
        "print(\"Average marks for Sociology: \",socio_mean)\n",
        "philoso = df.loc[df[\"Exam name\"] == \"Philosophy\"]\n",
        "philoso_mean = philoso[\"Marks\"].mean()\n",
        "print(\"Average marks for Philosophy: \",philoso_mean)\n",
        "maths = df.loc[df[\"Exam name\"] == \"Mathematics\"]\n",
        "maths_mean = maths[\"Marks\"].mean()\n",
        "print(\"Average marks for Mathematics: \",maths_mean)\n",
        "chem = df.loc[df[\"Exam name\"] == \"Chemistry\"]\n",
        "chem_mean = chem[\"Marks\"].mean()\n",
        "print(\"Average marks for Chemistry: \",chem_mean)\n",
        "phy = df.loc[df[\"Exam name\"] == \"Physics\"]\n",
        "phy_mean = phy[\"Marks\"].mean()\n",
        "print(\"Average marks for Physics: \",phy_mean)"
      ],
      "metadata": {
        "id": "AxhCtST5xS3L",
        "colab": {
          "base_uri": "https://localhost:8080/"
        },
        "outputId": "359955a3-c873-4eed-faf0-53bd979cd67d"
      },
      "execution_count": null,
      "outputs": [
        {
          "output_type": "stream",
          "name": "stdout",
          "text": [
            "Average marks for Biology:  47.89473684210526\n",
            "Average marks for Sociology:  56.026315789473685\n",
            "Average marks for Philosophy:  47.270270270270274\n",
            "Average marks for Mathematics:  48.97222222222222\n",
            "Average marks for Chemistry:  50.57692307692308\n",
            "Average marks for Physics:  51.76190476190476\n"
          ]
        }
      ]
    },
    {
      "cell_type": "markdown",
      "source": [
        "**Part B** - Using the averages you just calculated, plot a Bar Graph showing the average marks of each subject"
      ],
      "metadata": {
        "id": "NDlaA7hHxUBc"
      }
    },
    {
      "cell_type": "code",
      "source": [
        "import matplotlib.pyplot as plt\n",
        "import numpy as np\n",
        "Avg_Data = {\"Biology\":bio_mean, \"Sociology\":socio_mean, \"Philosophy\":philoso_mean, \"Mathematics\":maths_mean, \"Chemistry\":chem_mean, \"Physics\":phy_mean}\n",
        "subject_name = list(Avg_Data.keys())\n",
        "average = list(Avg_Data.values())\n",
        "fig = plt.figure(figsize = (12, 6))\n",
        "plt.bar(subject_name, average, color = \"darkblue\", width = 0.5)\n",
        "plt.title(\"Average marks of Students in different Exams\")\n",
        "plt.xlabel(\"Exam Name\")\n",
        "plt.ylabel(\"Average Marks\")\n",
        "plt.grid()\n",
        "plt.show()"
      ],
      "metadata": {
        "id": "LWoPFZBOyyNn",
        "colab": {
          "base_uri": "https://localhost:8080/",
          "height": 404
        },
        "outputId": "2b6567b4-7bb2-4d76-9981-92a9894019d2"
      },
      "execution_count": null,
      "outputs": [
        {
          "output_type": "display_data",
          "data": {
            "text/plain": [
              "<Figure size 864x432 with 1 Axes>"
            ],
            "image/png": "[encoded data removed]"
          },
          "metadata": {
            "needs_background": "light"
          }
        }
      ]
    },
    {
      "cell_type": "markdown",
      "source": [
        "---\n",
        "## Question 4\n",
        "---"
      ],
      "metadata": {
        "id": "dWlOSOIs6d1R"
      }
    },
    {
      "cell_type": "markdown",
      "source": [
        "**Part A** - Import the file \"CatData.csv\" and preprocess it to remove any null values"
      ],
      "metadata": {
        "id": "b4s-pN4v6kgb"
      }
    },
    {
      "cell_type": "code",
      "source": [
        "!pip install -U -q PyDrive\n",
        "from pydrive.auth import GoogleAuth\n",
        "from pydrive.drive import GoogleDrive\n",
        "from google.colab import auth\n",
        "from oauth2client.client import GoogleCredentials\n",
        "auth.authenticate_user()\n",
        "gauth = GoogleAuth()\n",
        "gauth.credentials = GoogleCredentials.get_application_default()\n",
        "drive = GoogleDrive(gauth)\n",
        "downloaded = drive.CreateFile({'id':'1d_3c7iD2wF59yXPTB5pWNFSjdYi5mSGG'})\n",
        "downloaded.GetContentFile('CatData.csv')\n",
        "import pandas as pd\n",
        "data = pd.read_csv(\"CatData.csv\")\n",
        "data.info()\n",
        "#As data doesn't contain any null value so we don't need to use any function to remove null values"
      ],
      "metadata": {
        "id": "mvZ3xrBV9b1s",
        "colab": {
          "base_uri": "https://localhost:8080/"
        },
        "outputId": "88c0258f-c76d-4e8a-b7b8-82bc85917a70"
      },
      "execution_count": null,
      "outputs": [
        {
          "output_type": "stream",
          "name": "stdout",
          "text": [
            "<class 'pandas.core.frame.DataFrame'>\n",
            "RangeIndex: 342 entries, 0 to 341\n",
            "Data columns (total 2 columns):\n",
            " #   Column            Non-Null Count  Dtype  \n",
            "---  ------            --------------  -----  \n",
            " 0   Tail Length (cm)  342 non-null    float64\n",
            " 1   Mass (kg)         342 non-null    float64\n",
            "dtypes: float64(2)\n",
            "memory usage: 5.5 KB\n"
          ]
        }
      ]
    },
    {
      "cell_type": "markdown",
      "source": [
        "**Part B** - Identify the independant and dependant variables (comment answer below)"
      ],
      "metadata": {
        "id": "bWxuB3ep9SWA"
      }
    },
    {
      "cell_type": "code",
      "source": [
        "# dependant variable: Mass (kg)\n",
        "# independant variable: Tail Length (cm)"
      ],
      "metadata": {
        "id": "TS9tvuRt9cWr"
      },
      "execution_count": null,
      "outputs": []
    },
    {
      "cell_type": "markdown",
      "source": [
        "**Part C** - Create a linear regression model using sklearn and fit it to the data you just imported\n"
      ],
      "metadata": {
        "id": "xPHVA3cX7uk9"
      }
    },
    {
      "cell_type": "code",
      "source": [
        "from sklearn import linear_model\n",
        "import numpy as np\n",
        "num = int(len(data)*0.8)\n",
        "train = data[ :num]\n",
        "test = data[num: ]\n",
        "regr = linear_model.LinearRegression()\n",
        "train_x = np.array(train[[\"Tail Length (cm)\"]])\n",
        "train_y = np.array(train[[\"Mass (kg)\"]])\n",
        "regr.fit(train_x, train_y)\n",
        "coefficients = regr.coef_\n",
        "intercept = regr.intercept_"
      ],
      "metadata": {
        "id": "WYVNRotH9cyo"
      },
      "execution_count": null,
      "outputs": []
    },
    {
      "cell_type": "markdown",
      "source": [
        "**Part D** - Print the values for slope and y-intercept"
      ],
      "metadata": {
        "id": "0QMipKhb830G"
      }
    },
    {
      "cell_type": "code",
      "source": [
        "print(\"Slope: \",coefficients)\n",
        "print(\"Intercept: \",intercept)"
      ],
      "metadata": {
        "id": "R7cvi3KB9dJh",
        "colab": {
          "base_uri": "https://localhost:8080/"
        },
        "outputId": "0c17859b-af9e-4718-ff19-787238dc824e"
      },
      "execution_count": null,
      "outputs": [
        {
          "output_type": "stream",
          "name": "stdout",
          "text": [
            "Slope:  [[0.48913766]]\n",
            "Intercept:  [-5.57328662]\n"
          ]
        }
      ]
    },
    {
      "cell_type": "markdown",
      "source": [
        "**Part E** - Plot a scatter graph of the original data and a regression line on the same figure (example with dummy data shown below)\n",
        "\n",
        "![](https://drive.google.com/uc?export=view&id=1o_NAsNjfx7zAh9m-UjvWB3rta6uraKdY)"
      ],
      "metadata": {
        "id": "IIq-BQYp_i33"
      }
    },
    {
      "cell_type": "code",
      "source": [
        "import matplotlib.pyplot as plt\n",
        "predicted_test = regr.predict(data[[\"Tail Length (cm)\"]])\n",
        "plt.scatter(data[\"Tail Length (cm)\"], data[\"Mass (kg)\"])\n",
        "plt.plot(data[\"Tail Length (cm)\"], predicted_test, color = \"red\")\n",
        "plt.title(\"Tail Length VS Mass\")\n",
        "plt.xlabel(\"Tail Length (cm)\")\n",
        "plt.ylabel(\"Mass (kg)\")\n",
        "plt.grid()\n",
        "plt.show()"
      ],
      "metadata": {
        "id": "jhz8gTYt_lCn",
        "colab": {
          "base_uri": "https://localhost:8080/",
          "height": 330
        },
        "outputId": "50459b87-d2cd-4a5a-abf5-326d41da4884"
      },
      "execution_count": null,
      "outputs": [
        {
          "output_type": "stream",
          "name": "stderr",
          "text": [
            "/usr/local/lib/python3.7/dist-packages/sklearn/base.py:444: UserWarning: X has feature names, but LinearRegression was fitted without feature names\n",
            "  f\"X has feature names, but {self.__class__.__name__} was fitted without\"\n"
          ]
        },
        {
          "output_type": "display_data",
          "data": {
            "text/plain": [
              "<Figure size 432x288 with 1 Axes>"
            ],
            "image/png": "[encoded data removed]"
          },
          "metadata": {
            "needs_background": "light"
          }
        }
      ]
    }
  ]
}